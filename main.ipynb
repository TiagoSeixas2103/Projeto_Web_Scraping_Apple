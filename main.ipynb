{
 "cells": [
  {
   "cell_type": "code",
   "execution_count": 1,
   "id": "9d049e9c",
   "metadata": {},
   "outputs": [],
   "source": [
    "# para trabalhar com diretórios / sistema operacional\n",
    "import os\n",
    "\n",
    "# para nos comunicarmos com a Web\n",
    "import requests\n",
    "\n",
    "# para extrair informações de páginas HTML\n",
    "import bs4\n",
    "from bs4 import BeautifulSoup\n",
    "\n",
    "# utilizada para nos indicar o caminho do executável do Python\n",
    "import sys\n",
    "\n",
    "# Para criar um Data Frame\n",
    "import pandas as pd\n",
    "\n",
    "import re\n",
    "\n",
    "from datetime import datetime, timedelta"
   ]
  },
  {
   "cell_type": "code",
   "execution_count": 2,
   "id": "646350fc",
   "metadata": {},
   "outputs": [],
   "source": [
    "from selenium import webdriver\n",
    "from selenium.webdriver.chrome.options import Options\n",
    "from webdriver_manager.chrome import ChromeDriverManager\n",
    "from selenium.webdriver.chrome.service import Service\n",
    "from selenium.webdriver.common.by import By\n",
    "from selenium.webdriver.support.ui import WebDriverWait\n",
    "from selenium.webdriver.support import expected_conditions as EC"
   ]
  },
  {
   "cell_type": "code",
   "execution_count": 3,
   "id": "1bf61f38",
   "metadata": {},
   "outputs": [],
   "source": [
    "import random\n",
    "import time"
   ]
  },
  {
   "cell_type": "code",
   "execution_count": 4,
   "id": "a60c7f40",
   "metadata": {},
   "outputs": [],
   "source": [
    "driver = webdriver.Chrome(service=Service(ChromeDriverManager().install()))\n",
    "driver.set_page_load_timeout(50)\n"
   ]
  },
  {
   "cell_type": "code",
   "execution_count": 5,
   "id": "e4b6cfe1",
   "metadata": {},
   "outputs": [],
   "source": [
    "url = 'https://www.apple.com/choose-country-region/'\n",
    "\n",
    "driver.get(url)\n",
    "driver.implicitly_wait(30)"
   ]
  },
  {
   "cell_type": "code",
   "execution_count": 6,
   "id": "6e998986",
   "metadata": {},
   "outputs": [],
   "source": [
    "soup = BeautifulSoup(driver.page_source, 'html.parser')"
   ]
  },
  {
   "cell_type": "code",
   "execution_count": 7,
   "id": "3836ae86",
   "metadata": {},
   "outputs": [],
   "source": [
    "main = soup.find('main')\n",
    "regioes_linguas = {}\n",
    "for region in main.find_all('section', class_='category'):\n",
    "    lista_linguas = []\n",
    "    region_name = region.get('data-analytics-section-engagement').replace('name:', '')\n",
    "    if region_name not in regioes_linguas.keys():\n",
    "        regioes_linguas[region_name] = []\n",
    "    for button in region.find_all('a', class_='block'):\n",
    "        href = button.get('href')\n",
    "        lista_linguas.append(href)\n",
    "    regioes_linguas[region_name] = list(set(lista_linguas))"
   ]
  },
  {
   "cell_type": "code",
   "execution_count": 8,
   "id": "433052c2",
   "metadata": {},
   "outputs": [
    {
     "name": "stdout",
     "output_type": "stream",
     "text": [
      "{'africa-mideast': ['/mz/', '/cm/', '/kw-ar/', '/om/', '/ug/', '/qa-ar/', '/in/', '/gq/', '/kw/', '/ae/', '/ng/', '/za/', '/ne/', '/ae-ar/', '/cf/', '/jo-ar/', '/mu/', '/ci/', '/sa/', '/ke/', '/om-ar/', '/eg/', '/sn/', '/gw/', '/eg-ar/', '/il/', '/tn/', '/jo/', '/sa-ar/', '/bh/', '/ma/', '/qa/', '/bh-ar/', '/ml/', '/gn/', '/bw/', '/mg/'], 'asia-pacific': ['/au/', '/id/', '/hk/en/', '/ph/', '/sg/', '/th/', '/vn/', '/mo/', '/jp/', '/hk/', '/tw/', '/nz/', '/my/', 'https://www.apple.com.cn/', '/kr/'], 'europe': ['/benl/', '/dk/', '/chfr/', '/no/', '/si/', '/ro/', '/ru/', '/bg/', '/pt/', '/md/', '/me/', '/fi/', '/lt/', '/ee/', '/uk/', '/befr/', '/sk/', '/gr/', '/fr/', '/tr/', '/chde/', '/de/', '/uz/', '/kz/', '/by/', '/nl/', '/mt/', '/lv/', '/hr/', '/hu/', '/se/', '/cz/', '/it/', '/ge/', '/ua/', '/at/', '/li/', '/tm/', '/am/', '/kg/', '/mk/', '/pl/', '/lu/', '/ie/', '/az/', '/tj/', '/es/'], 'latin-america': ['/la/', '/cl/', '/lae/', '/mx/', '/co/', '/br/'], 'north-america': ['/ca/fr/', '/ca/', '/']}\n"
     ]
    }
   ],
   "source": [
    "print(regioes_linguas)"
   ]
  },
  {
   "cell_type": "code",
   "execution_count": 9,
   "id": "b1eb0f93",
   "metadata": {},
   "outputs": [
    {
     "name": "stdout",
     "output_type": "stream",
     "text": [
      "['/ca/fr/', '/ca/', '/', '/la/', '/cl/', '/lae/', '/mx/', '/co/', '/br/', '/benl/', '/dk/', '/chfr/', '/no/', '/si/', '/ro/', '/ru/', '/bg/', '/pt/', '/md/', '/me/', '/fi/', '/lt/', '/ee/', '/uk/', '/befr/', '/sk/', '/gr/', '/fr/', '/tr/', '/chde/', '/de/', '/uz/', '/kz/', '/by/', '/nl/', '/mt/', '/lv/', '/hr/', '/hu/', '/se/', '/cz/', '/it/', '/ge/', '/ua/', '/at/', '/li/', '/tm/', '/am/', '/kg/', '/mk/', '/pl/', '/lu/', '/ie/', '/az/', '/tj/', '/es/']\n"
     ]
    }
   ],
   "source": [
    "lista_linguas = regioes_linguas['north-america'] + regioes_linguas['latin-america'] + regioes_linguas['europe']\n",
    "print(lista_linguas)"
   ]
  },
  {
   "cell_type": "code",
   "execution_count": 10,
   "id": "53dea52f",
   "metadata": {},
   "outputs": [],
   "source": [
    "apple_url = 'https://www.apple.com'\n",
    "lista_url_paises = []\n",
    "for lingua in lista_linguas:\n",
    "    if lingua == 'https://www.apple.com.cn/':\n",
    "        lista_url_paises.append(lingua)\n",
    "    elif lingua != '/':\n",
    "        lista_url_paises.append(apple_url+lingua)\n",
    "    else:\n",
    "        lista_url_paises.append(apple_url+'/')"
   ]
  },
  {
   "cell_type": "code",
   "execution_count": 11,
   "id": "93a49f30",
   "metadata": {},
   "outputs": [
    {
     "name": "stdout",
     "output_type": "stream",
     "text": [
      "['https://www.apple.com/ca/fr/', 'https://www.apple.com/ca/', 'https://www.apple.com/', 'https://www.apple.com/la/', 'https://www.apple.com/cl/', 'https://www.apple.com/lae/', 'https://www.apple.com/mx/', 'https://www.apple.com/co/', 'https://www.apple.com/br/', 'https://www.apple.com/benl/', 'https://www.apple.com/dk/', 'https://www.apple.com/chfr/', 'https://www.apple.com/no/', 'https://www.apple.com/si/', 'https://www.apple.com/ro/', 'https://www.apple.com/ru/', 'https://www.apple.com/bg/', 'https://www.apple.com/pt/', 'https://www.apple.com/md/', 'https://www.apple.com/me/', 'https://www.apple.com/fi/', 'https://www.apple.com/lt/', 'https://www.apple.com/ee/', 'https://www.apple.com/uk/', 'https://www.apple.com/befr/', 'https://www.apple.com/sk/', 'https://www.apple.com/gr/', 'https://www.apple.com/fr/', 'https://www.apple.com/tr/', 'https://www.apple.com/chde/', 'https://www.apple.com/de/', 'https://www.apple.com/uz/', 'https://www.apple.com/kz/', 'https://www.apple.com/by/', 'https://www.apple.com/nl/', 'https://www.apple.com/mt/', 'https://www.apple.com/lv/', 'https://www.apple.com/hr/', 'https://www.apple.com/hu/', 'https://www.apple.com/se/', 'https://www.apple.com/cz/', 'https://www.apple.com/it/', 'https://www.apple.com/ge/', 'https://www.apple.com/ua/', 'https://www.apple.com/at/', 'https://www.apple.com/li/', 'https://www.apple.com/tm/', 'https://www.apple.com/am/', 'https://www.apple.com/kg/', 'https://www.apple.com/mk/', 'https://www.apple.com/pl/', 'https://www.apple.com/lu/', 'https://www.apple.com/ie/', 'https://www.apple.com/az/', 'https://www.apple.com/tj/', 'https://www.apple.com/es/']\n",
      "56\n"
     ]
    }
   ],
   "source": [
    "print(lista_url_paises)\n",
    "print(len(lista_url_paises))"
   ]
  },
  {
   "cell_type": "code",
   "execution_count": null,
   "id": "9c63ab4d",
   "metadata": {},
   "outputs": [
    {
     "name": "stdout",
     "output_type": "stream",
     "text": [
      "Foi tudo \n",
      "Foi tudo cafr\n",
      "Deu ruim ca\n",
      "Foi tudo cl\n",
      "Foi tudo lae\n",
      "Foi tudo mx\n",
      "Foi tudo br\n",
      "Foi tudo la\n",
      "Foi tudo co\n",
      "Foi tudo dk\n",
      "Deu ruim mk\n",
      "Foi tudo pl\n",
      "Foi tudo no\n",
      "Deu ruim mt\n",
      "Foi tudo it\n",
      "Foi tudo ro\n",
      "Foi tudo chde\n",
      "Foi tudo chfr\n",
      "Foi tudo md\n",
      "Foi tudo ua\n",
      "Foi tudo am\n",
      "Foi tudo ge\n",
      "Foi tudo lv\n",
      "Foi tudo se\n",
      "Foi tudo fr\n",
      "Foi tudo si\n",
      "Foi tudo de\n",
      "Foi tudo pt\n",
      "Foi tudo sk\n",
      "Foi tudo kg\n",
      "Foi tudo nl\n",
      "Foi tudo tj\n",
      "Foi tudo ee\n",
      "Foi tudo tm\n",
      "Deu ruim by\n",
      "Foi tudo at\n",
      "Deu ruim ru\n",
      "Foi tudo tr\n",
      "Foi tudo uk\n",
      "Foi tudo lt\n",
      "Foi tudo az\n",
      "Foi tudo gr\n",
      "Foi tudo benl\n",
      "Foi tudo es\n",
      "Deu ruim me\n",
      "Foi tudo fi\n",
      "Foi tudo lu\n",
      "Foi tudo befr\n",
      "Foi tudo hu\n",
      "Foi tudo cz\n",
      "Foi tudo uz\n",
      "Foi tudo bg\n",
      "Deu ruim li\n",
      "Foi tudo kz\n",
      "Foi tudo ie\n",
      "Foi tudo hr\n"
     ]
    }
   ],
   "source": [
    "iphone_url = 'iphone'\n",
    "ipad_url = 'ipad'\n",
    "mac_url = 'mac'\n",
    "\n",
    "lista_url_paises_tmp = ['https://www.apple.com/br/']\n",
    "\n",
    "dict_prices = {}\n",
    "\n",
    "for url_pais in lista_url_paises:\n",
    "    pais = url_pais.replace('https://www.apple.com', '').replace('.', '').replace('/', '')\n",
    "    dict_prices[pais] = {\n",
    "        'iphone' : {},\n",
    "        'ipad' : {},\n",
    "        'mac' : {},\n",
    "        'passed' : 'true'\n",
    "    }\n",
    "    driver.get(url_pais+iphone_url)\n",
    "    driver.implicitly_wait(3000)\n",
    "    time.sleep(3)\n",
    "    iphone_soup = BeautifulSoup(driver.page_source, 'html.parser')\n",
    "    try:\n",
    "        iphone_list = iphone_soup.find('ul', class_ = 'product-tile-set')\n",
    "        items = iphone_list.find_all('li')\n",
    "        for item in items:\n",
    "            try:\n",
    "                title = item.find('p', class_ = 'product-tile-headline').text.replace('\\xa0', ' ')\n",
    "                price = item.find('span', class_ = 'sosumi-link-follows').text.replace('\\xa0', ' ')\n",
    "                dict_prices[pais]['iphone'][title]=price\n",
    "            except:\n",
    "                pass\n",
    "    except:\n",
    "        dict_prices[pais]['passed'] = 'false'\n",
    "    driver.get(url_pais+ipad_url)\n",
    "    driver.implicitly_wait(3000)\n",
    "    time.sleep(3)\n",
    "    ipad_soup = BeautifulSoup(driver.page_source, 'html.parser')\n",
    "    try:\n",
    "        ipad_list = ipad_soup.find('ul', class_ = 'StickyFooterGallery_itemContainer__Iir9v')\n",
    "        items = ipad_list.find_all('li', class_ = 'StickyFooterGallery_galleryItem__ZGmEN')\n",
    "        for item in items:\n",
    "            try:\n",
    "                title = item.find('h3', class_ = 'typography_headline__zZkHA').text.replace('\\xa0', ' ')\n",
    "                price = item.find('p', class_ = 'ProductTile_pricing__mJzcd typography_bodyCopySemibold__RqR50').text.replace('\\xa0', ' ')\n",
    "                dict_prices[pais]['ipad'][title]=price\n",
    "            except:\n",
    "                pass\n",
    "    except:\n",
    "        dict_prices[pais]['passed'] = 'false'\n",
    "    driver.get(url_pais+mac_url)\n",
    "    driver.implicitly_wait(3000)\n",
    "    time.sleep(3)\n",
    "    try:\n",
    "        mac_soup = BeautifulSoup(driver.page_source, 'html.parser')\n",
    "        mac_list = mac_soup.find('ul', class_ = 'product-tile-set')\n",
    "\n",
    "        # botao_tab_nav_2 = driver.find_element(By.XPATH, '//*[@data-select-gallery-id=\"scroll-gallery-gallery-2\"]')\n",
    "        # botao_tab_nav_2.click()\n",
    "        # driver.implicitly_wait(100)\n",
    "        # time.sleep(3)\n",
    "        # mac_soup_2 = BeautifulSoup(driver.page_source, 'html.parser')\n",
    "        # mac_list_2 = mac_soup_2.find('ul', class_ = 'product-tile-set')\n",
    "\n",
    "        # botao_tab_nav_3 = driver.find_element(By.XPATH, '//*[@data-select-gallery-id=\"scroll-gallery-gallery-3\"]')\n",
    "        # botao_tab_nav_3.click()\n",
    "        # time.sleep(3)\n",
    "        # mac_soup_3 = BeautifulSoup(driver.page_source, 'html.parser')\n",
    "        # mac_list_3 = mac_soup_3.find('ul', class_ = 'product-tile-set')\n",
    "\n",
    "        items_1 = mac_list.find_all('li')\n",
    "        # items_2 = mac_list_2.find_all('li')\n",
    "        # items_3 = mac_list_3.find_all('li')\n",
    "        items = items_1 # + items_2 + items_3\n",
    "        for item in items:\n",
    "            try:\n",
    "                title = item.find('p', class_ = 'product-tile-headline').text.replace('\\xa0', ' ')\n",
    "                price = item.find('p', class_ = 'product-tile-price product-tile-padding has-dynamic-content').text.replace('\\xa0', ' ')\n",
    "                dict_prices[pais]['mac'][title]=price\n",
    "            except:\n",
    "                pass\n",
    "    except:\n",
    "        dict_prices[pais]['passed'] = 'false'\n",
    "    if dict_prices[pais]['passed'] == 'true':\n",
    "        print(f\"Foi tudo {pais}\")\n",
    "    else:\n",
    "        print(f\"Deu ruim {pais}\")\n"
   ]
  },
  {
   "cell_type": "code",
   "execution_count": null,
   "id": "7334d28b",
   "metadata": {},
   "outputs": [],
   "source": [
    "flattened_data = []\n",
    "for region, products in dict_prices.items():\n",
    "    if \"passed\" in products:\n",
    "        del products[\"passed\"] \n",
    "    for category, items in products.items():\n",
    "        for product, price in items.items():\n",
    "            if region == '':\n",
    "                considered_region = 'us'\n",
    "            else:\n",
    "                considered_region = region\n",
    "            flattened_data.append({\n",
    "                \"region\": considered_region.replace('\"', '')  ,\n",
    "                \"category\": category.replace('\"', '')  ,\n",
    "                \"product\": product.replace('\"', '')  ,\n",
    "                \"price\": price.replace('\"', '')  \n",
    "            })\n",
    "\n",
    "\n",
    "df = pd.DataFrame(flattened_data)\n",
    "\n",
    "df = df.dropna()\n",
    "df = df[df[\"price\"].str.strip() != \"\"]"
   ]
  },
  {
   "cell_type": "code",
   "execution_count": null,
   "id": "95fd2ed0",
   "metadata": {},
   "outputs": [],
   "source": [
    "df.map(lambda x: x.replace('\\n', ''))\n",
    "df[\"price\"] = df[\"price\"].str.replace(r\"(?<=\\d) (?=\\d)\", \"\", regex=True)\n",
    "df[\"price\"] = df[\"price\"].str.replace(r\"[.,](?=\\d{3}\\b)\", \"\", regex=True)\n",
    "df[\"price\"] = df[\"price\"].str.replace(r\"[$€£]\", \" \", regex=True)\n",
    "df[\"price\"] = df[\"price\"].str.replace(r\"[A-Za-zÀ-ú]\", \" \", regex=True)\n",
    "df[\"price\"] = df[\"price\"].str.replace(r\"[^\\d\\s.,]|(?<!\\d)[.,]|[.,](?!\\d)\", \"\", regex=True)\n",
    "df[\"price\"] = df[\"price\"].str.replace(',', '.', regex=True)\n",
    "def extract_full_price(price_string):\n",
    "    numbers = [float(n.replace(\",\", \"\")) for n in re.findall(r\"\\d+(?:[\\.,]\\d+)?\", price_string)]\n",
    "    return max(numbers) if numbers else None\n",
    "\n",
    "df[\"price\"] = df[\"price\"].apply(extract_full_price)"
   ]
  },
  {
   "cell_type": "code",
   "execution_count": 46,
   "id": "bf0f19f6",
   "metadata": {},
   "outputs": [
    {
     "name": "stdout",
     "output_type": "stream",
     "text": [
      "['us' 'cafr' 'ca' 'mx' 'cl' 'br' 'lu' 'uk' 'de' 'chfr' 'ie' 'hu' 'chde'\n",
      " 'no' 'fr' 'pt' 'cz' 'dk' 'benl' 'at' 'befr' 'nl' 'pl' 'it' 'es' 'se' 'tr'\n",
      " 'fi']\n"
     ]
    }
   ],
   "source": [
    "unique_values = df['region'].unique()\n",
    "print(unique_values)"
   ]
  },
  {
   "cell_type": "code",
   "execution_count": 54,
   "id": "cf57e047",
   "metadata": {},
   "outputs": [
    {
     "name": "stdout",
     "output_type": "stream",
     "text": [
      "20250509\n"
     ]
    }
   ],
   "source": [
    "current_date = datetime.today()\n",
    "desired_date = current_date - timedelta(days=2)\n",
    "string_date = desired_date.strftime('%Y%m%d')\n",
    "print(string_date)"
   ]
  },
  {
   "cell_type": "code",
   "execution_count": 59,
   "id": "61617f20",
   "metadata": {},
   "outputs": [],
   "source": [
    "column_names = [ \"Data\", \"Cod Moeda\", \"Tipo\", \"Moeda\", \"Taxa Compra\", \"Taxa Venda\", \"Paridade Compra\", \"Paridade Venda\"]\n",
    "exchange_rates_to_brl = pd.read_csv(f\"https://www4.bcb.gov.br/Download/fechamento/{string_date}.csv\", sep=';', header=None, names=column_names)"
   ]
  },
  {
   "cell_type": "code",
   "execution_count": 64,
   "id": "d30ec694",
   "metadata": {},
   "outputs": [],
   "source": [
    "desired_columns = ['Moeda', 'Taxa Venda']\n",
    "exchange_rates_to_brl = exchange_rates_to_brl[desired_columns]\n",
    "exchange_rates_to_brl[\"Taxa Venda\"] = exchange_rates_to_brl[\"Taxa Venda\"].str.replace(',', '.', regex=True)"
   ]
  },
  {
   "cell_type": "code",
   "execution_count": 11,
   "id": "17c353d2",
   "metadata": {},
   "outputs": [],
   "source": [
    "exchange_rates_to_brl.loc[len(exchange_rates_to_brl)] = [\"BRL\", 1.00000000]"
   ]
  },
  {
   "cell_type": "code",
   "execution_count": 15,
   "id": "962f4136",
   "metadata": {},
   "outputs": [],
   "source": [
    "convert_dict = {\n",
    "    'us': 'USD', # Moeda EUA\n",
    "    'cafr': 'CAD', # Moeda Canada\n",
    "    'ca': 'CAD', # Moeda Canada\n",
    "    'mx': 'MXN', # Moeda México\n",
    "    'cl': 'CLP', # Moeda Chile\n",
    "    'br': 'BRL', # Moeda Brasil\n",
    "    'lu': 'EUR', # Moeda Luxemburgo (Euro)\n",
    "    'uk': 'GBP', # Moeda Reino Unido \n",
    "    'de': 'EUR', # Moeda Alemanha (Euro)\n",
    "    'chfr': 'CHF', # Moeda Suica\n",
    "    'ie': 'EUR', # Moeda Irlanda (Euro)\n",
    "    'hu': 'HUF', # Moeda Hungria\n",
    "    'chde': 'CHF', # Moeda Suica\n",
    "    'no': 'NOK', # Moeda Noruega\n",
    "    'fr': 'EUR', # Moeda Franca (Euro)\n",
    "    'pt': 'EUR', # Moeda Portugal (Euro)\n",
    "    'cz': 'CZK', # Moeda Tcheca\n",
    "    'dk': 'DKK', # Moeda Dinamarca\n",
    "    'benl': 'EUR', # Moeda Bélgica (Euro)\n",
    "    'at': 'EUR', # Moeda Austria (Euro)\n",
    "    'befr': 'EUR', # Moeda Bélgica (Euro)\n",
    "    'nl': 'EUR', # Moeda Paises Baixos (Euro)\n",
    "    'pl': 'PLN', # Moeda Polonia\n",
    "    'it': 'EUR', # Moeda Italia (Euro)\n",
    "    'es': 'EUR', # Moeda Espanha (Euro)\n",
    "    'se': 'SEK', # Moeda Suecia\n",
    "    'tr': 'TRY', # Moeda Turquia\n",
    "    'fi': 'EUR', # Moeda Finlandia (Euro)\n",
    "}"
   ]
  },
  {
   "cell_type": "code",
   "execution_count": 37,
   "id": "17b1e26a",
   "metadata": {},
   "outputs": [
    {
     "data": {
      "text/html": [
       "<div>\n",
       "<style scoped>\n",
       "    .dataframe tbody tr th:only-of-type {\n",
       "        vertical-align: middle;\n",
       "    }\n",
       "\n",
       "    .dataframe tbody tr th {\n",
       "        vertical-align: top;\n",
       "    }\n",
       "\n",
       "    .dataframe thead th {\n",
       "        text-align: right;\n",
       "    }\n",
       "</style>\n",
       "<table border=\"1\" class=\"dataframe\">\n",
       "  <thead>\n",
       "    <tr style=\"text-align: right;\">\n",
       "      <th></th>\n",
       "      <th>region</th>\n",
       "      <th>category</th>\n",
       "      <th>product</th>\n",
       "      <th>price_brl</th>\n",
       "    </tr>\n",
       "  </thead>\n",
       "  <tbody>\n",
       "    <tr>\n",
       "      <th>0</th>\n",
       "      <td>us</td>\n",
       "      <td>iphone</td>\n",
       "      <td>iPhone 16 Pro</td>\n",
       "      <td>5645.45</td>\n",
       "    </tr>\n",
       "    <tr>\n",
       "      <th>1</th>\n",
       "      <td>us</td>\n",
       "      <td>iphone</td>\n",
       "      <td>iPhone 16</td>\n",
       "      <td>4515.23</td>\n",
       "    </tr>\n",
       "    <tr>\n",
       "      <th>2</th>\n",
       "      <td>us</td>\n",
       "      <td>iphone</td>\n",
       "      <td>iPhone 16e</td>\n",
       "      <td>3385.01</td>\n",
       "    </tr>\n",
       "    <tr>\n",
       "      <th>3</th>\n",
       "      <td>us</td>\n",
       "      <td>iphone</td>\n",
       "      <td>iPhone 15</td>\n",
       "      <td>3950.12</td>\n",
       "    </tr>\n",
       "    <tr>\n",
       "      <th>4</th>\n",
       "      <td>us</td>\n",
       "      <td>ipad</td>\n",
       "      <td>iPad Pro</td>\n",
       "      <td>5645.45</td>\n",
       "    </tr>\n",
       "    <tr>\n",
       "      <th>...</th>\n",
       "      <td>...</td>\n",
       "      <td>...</td>\n",
       "      <td>...</td>\n",
       "      <td>...</td>\n",
       "    </tr>\n",
       "    <tr>\n",
       "      <th>269</th>\n",
       "      <td>fi</td>\n",
       "      <td>ipad</td>\n",
       "      <td>iPad Air</td>\n",
       "      <td>4706.54</td>\n",
       "    </tr>\n",
       "    <tr>\n",
       "      <th>270</th>\n",
       "      <td>fi</td>\n",
       "      <td>ipad</td>\n",
       "      <td>iPad</td>\n",
       "      <td>2732.22</td>\n",
       "    </tr>\n",
       "    <tr>\n",
       "      <th>271</th>\n",
       "      <td>fi</td>\n",
       "      <td>ipad</td>\n",
       "      <td>iPad mini</td>\n",
       "      <td>4005.98</td>\n",
       "    </tr>\n",
       "    <tr>\n",
       "      <th>272</th>\n",
       "      <td>fi</td>\n",
       "      <td>mac</td>\n",
       "      <td>13 ja 15 tuuman MacBook Air</td>\n",
       "      <td>8018.32</td>\n",
       "    </tr>\n",
       "    <tr>\n",
       "      <th>273</th>\n",
       "      <td>fi</td>\n",
       "      <td>mac</td>\n",
       "      <td>14 ja 16 tuuman MacBook Pro</td>\n",
       "      <td>12731.23</td>\n",
       "    </tr>\n",
       "  </tbody>\n",
       "</table>\n",
       "<p>274 rows × 4 columns</p>\n",
       "</div>"
      ],
      "text/plain": [
       "    region category                      product  price_brl\n",
       "0       us   iphone                iPhone 16 Pro    5645.45\n",
       "1       us   iphone                    iPhone 16    4515.23\n",
       "2       us   iphone                   iPhone 16e    3385.01\n",
       "3       us   iphone                    iPhone 15    3950.12\n",
       "4       us     ipad                     iPad Pro    5645.45\n",
       "..     ...      ...                          ...        ...\n",
       "269     fi     ipad                     iPad Air    4706.54\n",
       "270     fi     ipad                         iPad    2732.22\n",
       "271     fi     ipad                    iPad mini    4005.98\n",
       "272     fi      mac  13 ja 15 tuuman MacBook Air    8018.32\n",
       "273     fi      mac  14 ja 16 tuuman MacBook Pro   12731.23\n",
       "\n",
       "[274 rows x 4 columns]"
      ]
     },
     "execution_count": 37,
     "metadata": {},
     "output_type": "execute_result"
    }
   ],
   "source": [
    "region_df = df.copy()\n",
    "region_df['money_code'] = region_df['region'].map(convert_dict)\n",
    "\n",
    "merged_df = region_df.merge(exchange_rates_to_brl.rename(columns={'Moeda': 'money_code', 'Taxa Venda': 'exchange_rate'}), on='money_code', how='left')\n",
    "merged_df['price_brl'] = merged_df['price'] * merged_df['exchange_rate']\n",
    "merged_df['price_brl'] = (merged_df['price_brl']).round(2)\n",
    "merged_df = merged_df.drop(columns=['price', 'money_code', 'exchange_rate'])\n",
    "merged_df"
   ]
  },
  {
   "cell_type": "code",
   "execution_count": 38,
   "id": "48f734e4",
   "metadata": {},
   "outputs": [],
   "source": [
    "merged_df.to_csv('data_source.csv', index=False)"
   ]
  }
 ],
 "metadata": {
  "kernelspec": {
   "display_name": "Python 3",
   "language": "python",
   "name": "python3"
  },
  "language_info": {
   "codemirror_mode": {
    "name": "ipython",
    "version": 3
   },
   "file_extension": ".py",
   "mimetype": "text/x-python",
   "name": "python",
   "nbconvert_exporter": "python",
   "pygments_lexer": "ipython3",
   "version": "3.9.13"
  }
 },
 "nbformat": 4,
 "nbformat_minor": 5
}
